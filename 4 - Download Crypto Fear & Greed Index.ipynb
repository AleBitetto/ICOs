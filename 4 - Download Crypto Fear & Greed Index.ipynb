{
 "cells": [
  {
   "cell_type": "code",
   "execution_count": 1,
   "id": "77d627c7",
   "metadata": {},
   "outputs": [],
   "source": [
    "import os\n",
    "import requests\n",
    "import json\n",
    "import pandas as pd"
   ]
  },
  {
   "cell_type": "code",
   "execution_count": 2,
   "id": "cdbaf551",
   "metadata": {},
   "outputs": [],
   "source": [
    "# set folders\n",
    "RESULTS_FOLDER = '.\\\\Results'\n",
    "\n",
    "if not os.path.exists(RESULTS_FOLDER):\n",
    "    os.makedirs(RESULTS_FOLDER)"
   ]
  },
  {
   "cell_type": "code",
   "execution_count": 3,
   "id": "27b5ecbd",
   "metadata": {},
   "outputs": [],
   "source": [
    "# get request\n",
    "# see API at the bottom of https://alternative.me/crypto/fear-and-greed-index/\n",
    "page=requests.get('https://api.alternative.me/fng/?limit=0&date_format=world')\n",
    "\n",
    "# convert to json and extract to DataFrame\n",
    "data=json.loads(page.content)['data']\n",
    "df_download=pd.DataFrame()\n",
    "for item in data:\n",
    "    df_download=pd.concat([df_download, pd.DataFrame({'date': item['timestamp'], 'index': item['value'],\n",
    "                                                        'classification': item['value_classification']}, index=[0])])\n",
    "df_download['date']=pd.to_datetime(df_download['date'], infer_datetime_format=True)"
   ]
  },
  {
   "cell_type": "code",
   "execution_count": 4,
   "id": "9ea2cabd",
   "metadata": {},
   "outputs": [
    {
     "data": {
      "text/html": [
       "<div>\n",
       "<style scoped>\n",
       "    .dataframe tbody tr th:only-of-type {\n",
       "        vertical-align: middle;\n",
       "    }\n",
       "\n",
       "    .dataframe tbody tr th {\n",
       "        vertical-align: top;\n",
       "    }\n",
       "\n",
       "    .dataframe thead th {\n",
       "        text-align: right;\n",
       "    }\n",
       "</style>\n",
       "<table border=\"1\" class=\"dataframe\">\n",
       "  <thead>\n",
       "    <tr style=\"text-align: right;\">\n",
       "      <th></th>\n",
       "      <th>date</th>\n",
       "      <th>index</th>\n",
       "      <th>classification</th>\n",
       "    </tr>\n",
       "  </thead>\n",
       "  <tbody>\n",
       "    <tr>\n",
       "      <th>0</th>\n",
       "      <td>2023-04-24</td>\n",
       "      <td>53</td>\n",
       "      <td>Neutral</td>\n",
       "    </tr>\n",
       "    <tr>\n",
       "      <th>0</th>\n",
       "      <td>2023-04-23</td>\n",
       "      <td>56</td>\n",
       "      <td>Greed</td>\n",
       "    </tr>\n",
       "    <tr>\n",
       "      <th>0</th>\n",
       "      <td>2023-04-22</td>\n",
       "      <td>53</td>\n",
       "      <td>Neutral</td>\n",
       "    </tr>\n",
       "    <tr>\n",
       "      <th>0</th>\n",
       "      <td>2023-04-21</td>\n",
       "      <td>50</td>\n",
       "      <td>Neutral</td>\n",
       "    </tr>\n",
       "    <tr>\n",
       "      <th>0</th>\n",
       "      <td>2023-04-20</td>\n",
       "      <td>52</td>\n",
       "      <td>Neutral</td>\n",
       "    </tr>\n",
       "    <tr>\n",
       "      <th>...</th>\n",
       "      <td>...</td>\n",
       "      <td>...</td>\n",
       "      <td>...</td>\n",
       "    </tr>\n",
       "    <tr>\n",
       "      <th>0</th>\n",
       "      <td>2018-02-05</td>\n",
       "      <td>11</td>\n",
       "      <td>Extreme Fear</td>\n",
       "    </tr>\n",
       "    <tr>\n",
       "      <th>0</th>\n",
       "      <td>2018-02-04</td>\n",
       "      <td>24</td>\n",
       "      <td>Extreme Fear</td>\n",
       "    </tr>\n",
       "    <tr>\n",
       "      <th>0</th>\n",
       "      <td>2018-02-03</td>\n",
       "      <td>40</td>\n",
       "      <td>Fear</td>\n",
       "    </tr>\n",
       "    <tr>\n",
       "      <th>0</th>\n",
       "      <td>2018-02-02</td>\n",
       "      <td>15</td>\n",
       "      <td>Extreme Fear</td>\n",
       "    </tr>\n",
       "    <tr>\n",
       "      <th>0</th>\n",
       "      <td>2018-02-01</td>\n",
       "      <td>30</td>\n",
       "      <td>Fear</td>\n",
       "    </tr>\n",
       "  </tbody>\n",
       "</table>\n",
       "<p>1906 rows × 3 columns</p>\n",
       "</div>"
      ],
      "text/plain": [
       "         date index classification\n",
       "0  2023-04-24    53        Neutral\n",
       "0  2023-04-23    56          Greed\n",
       "0  2023-04-22    53        Neutral\n",
       "0  2023-04-21    50        Neutral\n",
       "0  2023-04-20    52        Neutral\n",
       "..        ...   ...            ...\n",
       "0  2018-02-05    11   Extreme Fear\n",
       "0  2018-02-04    24   Extreme Fear\n",
       "0  2018-02-03    40           Fear\n",
       "0  2018-02-02    15   Extreme Fear\n",
       "0  2018-02-01    30           Fear\n",
       "\n",
       "[1906 rows x 3 columns]"
      ]
     },
     "execution_count": 4,
     "metadata": {},
     "output_type": "execute_result"
    }
   ],
   "source": [
    "df_download"
   ]
  },
  {
   "cell_type": "code",
   "execution_count": 5,
   "id": "9a0d5de9",
   "metadata": {},
   "outputs": [],
   "source": [
    "df_download.to_csv(os.path.join(RESULTS_FOLDER, '99_Crypto_Fear_and_Greed_Index.csv'), index=False, sep=';')"
   ]
  },
  {
   "cell_type": "code",
   "execution_count": null,
   "id": "2cfcf521",
   "metadata": {},
   "outputs": [],
   "source": []
  },
  {
   "cell_type": "code",
   "execution_count": null,
   "id": "256da015",
   "metadata": {},
   "outputs": [],
   "source": []
  },
  {
   "cell_type": "markdown",
   "id": "7e213eb1",
   "metadata": {},
   "source": [
    "# Alternative way to scrape directly from ChartJS"
   ]
  },
  {
   "cell_type": "code",
   "execution_count": 2,
   "id": "a3830fda",
   "metadata": {},
   "outputs": [],
   "source": [
    "from seleniumwire import webdriver\n",
    "from seleniumwire.utils import decode\n",
    "import json\n",
    "import time\n",
    "import pandas as pd\n",
    "\n",
    "CHROMEDRIVER_PATH = r\"C:\\Users\\Alessandro Bitetto\\Downloads\\UniPV\\ICOs\\WebDriver\\chromedriver\""
   ]
  },
  {
   "cell_type": "code",
   "execution_count": null,
   "id": "c4980d5f",
   "metadata": {},
   "outputs": [],
   "source": [
    "url='https://alternative.me/crypto/fear-and-greed-index/'\n",
    "requested_item_url='https://alternative.me/api/crypto/fear-and-greed-index/history'\n",
    "\n",
    "# have a look at https://www.youtube.com/watch?v=i9N_LrnDUnY&ab_channel=StevesieData from minute 2:00 to understand\n",
    "# how to locate the url of the chart you want to extract. It will be \"requested\" and the Network tab in inspect mode\n",
    "# will record the interaction and then you can extract the response. Otherwise see the first example in \n",
    "# https://pypi.org/project/selenium-wire/ to get the full list of Network interactions"
   ]
  },
  {
   "cell_type": "code",
   "execution_count": null,
   "id": "3f12232e",
   "metadata": {},
   "outputs": [],
   "source": [
    "# load page and scroll down (to load the chart)\n",
    "driver = webdriver.Chrome(executable_path=CHROMEDRIVER_PATH)\n",
    "driver.get(url)\n",
    "time.sleep(3)\n",
    "driver.execute_script(\"window.scrollTo(0, document.body.scrollHeight);\")\n",
    "time.sleep(1)\n",
    "\n",
    "# press \"Max\" button in the chart\n",
    "driver.find_element(\"xpath\", \"/html/body/div/main/section/div/div[5]/div[2]/div/span[5]\").click()\n",
    "\n",
    "# loop request and extract the chart data as json\n",
    "downloaded_data=[]\n",
    "for request in driver.requests:\n",
    "    if request.response:\n",
    "        if request.url == requested_item_url:\n",
    "            print(f'Found: {request.url}')\n",
    "            body = decode(request.response.body, request.response.headers.get('Content-Encoding', 'identity'))\n",
    "            downloaded_data.append(json.loads(body))\n",
    "print(f'\\nTotal data downloaded: {len(downloaded_data)}')"
   ]
  },
  {
   "cell_type": "code",
   "execution_count": null,
   "id": "93587b1e",
   "metadata": {},
   "outputs": [],
   "source": [
    "# convert json to DataFrame\n",
    "converted_dataframe=[]\n",
    "for data in downloaded_data:\n",
    "    converted_dataframe.append(pd.DataFrame({'dates': data['data']['labels'], 'index': data['data']['datasets'][0]['data']}))"
   ]
  },
  {
   "cell_type": "code",
   "execution_count": null,
   "id": "198b1903",
   "metadata": {},
   "outputs": [],
   "source": []
  }
 ],
 "metadata": {
  "kernelspec": {
   "display_name": "Python (ICO)",
   "language": "python",
   "name": "ico"
  },
  "language_info": {
   "codemirror_mode": {
    "name": "ipython",
    "version": 3
   },
   "file_extension": ".py",
   "mimetype": "text/x-python",
   "name": "python",
   "nbconvert_exporter": "python",
   "pygments_lexer": "ipython3",
   "version": "3.9.16"
  }
 },
 "nbformat": 4,
 "nbformat_minor": 5
}
